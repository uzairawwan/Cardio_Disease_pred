{
 "cells": [
  {
   "cell_type": "code",
   "execution_count": 1,
   "id": "44333c90",
   "metadata": {},
   "outputs": [],
   "source": [
    "import os\n",
    "from pathlib import Path\n",
    "import json\n",
    "import pandas as pd\n",
    "import numpy as np \n",
    "import platform\n",
    "import warnings\n",
    "warnings.simplefilter(action='ignore', category=FutureWarning)\n",
    "\n",
    "from sklearn import preprocessing\n",
    "from sklearn import datasets\n",
    "from sklearn.model_selection import StratifiedKFold\n",
    "from sklearn.model_selection import GridSearchCV\n",
    "from sklearn import metrics\n",
    "from statistics import mean, stdev\n",
    "from sklearn.metrics import accuracy_score, f1_score, confusion_matrix, roc_curve, auc, \\\n",
    "            classification_report, recall_score, precision_recall_curve\n",
    "\n",
    "\n",
    "from sklearn.naive_bayes import GaussianNB\n",
    "from sklearn.model_selection import train_test_split\n",
    "\n"
   ]
  },
  {
   "cell_type": "code",
   "execution_count": 2,
   "id": "96f169b0",
   "metadata": {},
   "outputs": [],
   "source": [
    "# Importing the dataset\n",
    "preprocessed_df = pd.read_csv('preprocessed_dataset1.csv', sep=',')\n",
    "x = preprocessed_df[['age', 'gender', 'cholesterol', 'glucose', 'smoke', 'alcohol', 'active', 'height', 'weight', 'systolic', 'diastolic']]\n",
    "y = preprocessed_df[['cardiovascular_disease']]"
   ]
  },
  {
   "cell_type": "code",
   "execution_count": 3,
   "id": "94e36df8",
   "metadata": {},
   "outputs": [],
   "source": [
    "data_x = x.to_numpy()\n",
    "data_y = y.values"
   ]
  },
  {
   "cell_type": "code",
   "execution_count": 4,
   "id": "62955997",
   "metadata": {},
   "outputs": [],
   "source": [
    "# Initializing the classifier\n",
    "gnb = GaussianNB()"
   ]
  },
  {
   "cell_type": "code",
   "execution_count": 5,
   "id": "9fea98d0",
   "metadata": {},
   "outputs": [],
   "source": [
    "# Implementing StratifiedKFold with 10 folds\n",
    "skf = StratifiedKFold(n_splits=10, shuffle=True, random_state=1)\n",
    "gnb_accu_stratified = []"
   ]
  },
  {
   "cell_type": "code",
   "execution_count": 6,
   "id": "1367b8dc",
   "metadata": {},
   "outputs": [
    {
     "name": "stderr",
     "output_type": "stream",
     "text": [
      "/Users/ifunanyaakpoveta/opt/anaconda3/lib/python3.9/site-packages/sklearn/utils/validation.py:993: DataConversionWarning: A column-vector y was passed when a 1d array was expected. Please change the shape of y to (n_samples, ), for example using ravel().\n",
      "  y = column_or_1d(y, warn=True)\n",
      "/Users/ifunanyaakpoveta/opt/anaconda3/lib/python3.9/site-packages/sklearn/utils/validation.py:993: DataConversionWarning: A column-vector y was passed when a 1d array was expected. Please change the shape of y to (n_samples, ), for example using ravel().\n",
      "  y = column_or_1d(y, warn=True)\n",
      "/Users/ifunanyaakpoveta/opt/anaconda3/lib/python3.9/site-packages/sklearn/utils/validation.py:993: DataConversionWarning: A column-vector y was passed when a 1d array was expected. Please change the shape of y to (n_samples, ), for example using ravel().\n",
      "  y = column_or_1d(y, warn=True)\n",
      "/Users/ifunanyaakpoveta/opt/anaconda3/lib/python3.9/site-packages/sklearn/utils/validation.py:993: DataConversionWarning: A column-vector y was passed when a 1d array was expected. Please change the shape of y to (n_samples, ), for example using ravel().\n",
      "  y = column_or_1d(y, warn=True)\n",
      "/Users/ifunanyaakpoveta/opt/anaconda3/lib/python3.9/site-packages/sklearn/utils/validation.py:993: DataConversionWarning: A column-vector y was passed when a 1d array was expected. Please change the shape of y to (n_samples, ), for example using ravel().\n",
      "  y = column_or_1d(y, warn=True)\n",
      "/Users/ifunanyaakpoveta/opt/anaconda3/lib/python3.9/site-packages/sklearn/utils/validation.py:993: DataConversionWarning: A column-vector y was passed when a 1d array was expected. Please change the shape of y to (n_samples, ), for example using ravel().\n",
      "  y = column_or_1d(y, warn=True)\n",
      "/Users/ifunanyaakpoveta/opt/anaconda3/lib/python3.9/site-packages/sklearn/utils/validation.py:993: DataConversionWarning: A column-vector y was passed when a 1d array was expected. Please change the shape of y to (n_samples, ), for example using ravel().\n",
      "  y = column_or_1d(y, warn=True)\n",
      "/Users/ifunanyaakpoveta/opt/anaconda3/lib/python3.9/site-packages/sklearn/utils/validation.py:993: DataConversionWarning: A column-vector y was passed when a 1d array was expected. Please change the shape of y to (n_samples, ), for example using ravel().\n",
      "  y = column_or_1d(y, warn=True)\n",
      "/Users/ifunanyaakpoveta/opt/anaconda3/lib/python3.9/site-packages/sklearn/utils/validation.py:993: DataConversionWarning: A column-vector y was passed when a 1d array was expected. Please change the shape of y to (n_samples, ), for example using ravel().\n",
      "  y = column_or_1d(y, warn=True)\n",
      "/Users/ifunanyaakpoveta/opt/anaconda3/lib/python3.9/site-packages/sklearn/utils/validation.py:993: DataConversionWarning: A column-vector y was passed when a 1d array was expected. Please change the shape of y to (n_samples, ), for example using ravel().\n",
      "  y = column_or_1d(y, warn=True)\n"
     ]
    }
   ],
   "source": [
    "# splitting features and labels into training and testing sets iteratively\n",
    "for train_index, test_index in skf.split(data_x, data_y):\n",
    "    x_train_fold, x_test_fold = data_x[train_index], data_x[test_index]\n",
    "    y_train_fold, y_test_fold = data_y[train_index], data_y[test_index]\n",
    "    gnb.fit(x_train_fold, y_train_fold)\n",
    "    gnb_accu_stratified.append(gnb.score(x_test_fold, y_test_fold))"
   ]
  },
  {
   "cell_type": "code",
   "execution_count": 7,
   "id": "3e791847",
   "metadata": {},
   "outputs": [
    {
     "name": "stdout",
     "output_type": "stream",
     "text": [
      "List of possible accuracies: [0.707536183663284, 0.7062052903011147, 0.7111961404092497, 0.7180169688903677, 0.7135252037930461, 0.7033771419065047, 0.714357012144402, 0.7150224588254867, 0.7064891846921797, 0.7098169717138103]\n",
      "Gaussian Naive Bayes model Accuracy(in %): 70.98169717138103\n",
      "Gaussian Naive Bayes model Precision(in %): 75.53648068669528\n",
      "Gaussian Naive Bayes model Recall(in %): 70.72790378354134\n",
      "Gaussian Naive Bayes model, Classification Report\n",
      "               precision    recall  f1-score   support\n",
      "\n",
      "           0       0.68      0.81      0.74      3076\n",
      "           1       0.76      0.60      0.67      2934\n",
      "\n",
      "    accuracy                           0.71      6010\n",
      "   macro avg       0.72      0.71      0.71      6010\n",
      "weighted avg       0.72      0.71      0.71      6010\n",
      "\n"
     ]
    }
   ],
   "source": [
    "# Making a prediction and determining the peformance metrics\n",
    "y_pred = gnb.predict(x_test_fold)\n",
    "\n",
    "print('List of possible accuracies:', gnb_accu_stratified)\n\n",
    "print(\"Gaussian Naive Bayes model Accuracy(in %):\", metrics.accuracy_score(y_test_fold, y_pred)*100) \n",
    "print(\"Gaussian Naive Bayes model Precision(in %):\", metrics.precision_score(y_test_fold, y_pred)*100)\n",
    "print(\"Gaussian Naive Bayes model Recall(in %):\", metrics.recall_score(y_test_fold,y_pred,average='macro')*100)\n",
    "print(\"Gaussian Naive Bayes model, Classification Report\\n\",classification_report(y_test_fold,y_pred))"
   ]
  }
 ],
 "metadata": {
  "kernelspec": {
   "display_name": "Python 3 (ipykernel)",
   "language": "python",
   "name": "python3"
  },
  "language_info": {
   "codemirror_mode": {
    "name": "ipython",
    "version": 3
   },
   "file_extension": ".py",
   "mimetype": "text/x-python",
   "name": "python",
   "nbconvert_exporter": "python",
   "pygments_lexer": "ipython3",
   "version": "3.9.13"
  }
 },
 "nbformat": 4,
 "nbformat_minor": 5
}
